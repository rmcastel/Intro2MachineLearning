{
 "cells": [
  {
   "cell_type": "code",
   "execution_count": 1,
   "metadata": {},
   "outputs": [],
   "source": [
    "import numpy as np\n",
    "import pandas as pd\n",
    "\n",
    "from sklearn.pipeline import Pipeline\n",
    "from sklearn.preprocessing import StandardScaler, scale\n",
    "from sklearn.linear_model import Ridge, RidgeCV, Lasso, LassoCV\n",
    "from sklearn.model_selection import cross_validate\n",
    "from sklearn.model_selection import KFold\n",
    "from matplotlib import pyplot as plt\n",
    "from operator import itemgetter\n",
    "\n",
    "%matplotlib inline"
   ]
  },
  {
   "cell_type": "code",
   "execution_count": 2,
   "metadata": {},
   "outputs": [
    {
     "data": {
      "text/html": [
       "<div>\n",
       "<style scoped>\n",
       "    .dataframe tbody tr th:only-of-type {\n",
       "        vertical-align: middle;\n",
       "    }\n",
       "\n",
       "    .dataframe tbody tr th {\n",
       "        vertical-align: top;\n",
       "    }\n",
       "\n",
       "    .dataframe thead th {\n",
       "        text-align: right;\n",
       "    }\n",
       "</style>\n",
       "<table border=\"1\" class=\"dataframe\">\n",
       "  <thead>\n",
       "    <tr style=\"text-align: right;\">\n",
       "      <th></th>\n",
       "      <th>AtBat</th>\n",
       "      <th>Hits</th>\n",
       "      <th>HmRun</th>\n",
       "      <th>Runs</th>\n",
       "      <th>RBI</th>\n",
       "      <th>Walks</th>\n",
       "      <th>Years</th>\n",
       "      <th>CAtBat</th>\n",
       "      <th>CHits</th>\n",
       "      <th>CHmRun</th>\n",
       "      <th>CRuns</th>\n",
       "      <th>CRBI</th>\n",
       "      <th>CWalks</th>\n",
       "      <th>PutOuts</th>\n",
       "      <th>Assists</th>\n",
       "      <th>Errors</th>\n",
       "      <th>Salary</th>\n",
       "      <th>League_N</th>\n",
       "      <th>Division_W</th>\n",
       "      <th>NewLeague_N</th>\n",
       "    </tr>\n",
       "    <tr>\n",
       "      <th>Player</th>\n",
       "      <th></th>\n",
       "      <th></th>\n",
       "      <th></th>\n",
       "      <th></th>\n",
       "      <th></th>\n",
       "      <th></th>\n",
       "      <th></th>\n",
       "      <th></th>\n",
       "      <th></th>\n",
       "      <th></th>\n",
       "      <th></th>\n",
       "      <th></th>\n",
       "      <th></th>\n",
       "      <th></th>\n",
       "      <th></th>\n",
       "      <th></th>\n",
       "      <th></th>\n",
       "      <th></th>\n",
       "      <th></th>\n",
       "      <th></th>\n",
       "    </tr>\n",
       "  </thead>\n",
       "  <tbody>\n",
       "    <tr>\n",
       "      <td>-Alan Ashby</td>\n",
       "      <td>315</td>\n",
       "      <td>81</td>\n",
       "      <td>7</td>\n",
       "      <td>24</td>\n",
       "      <td>38</td>\n",
       "      <td>39</td>\n",
       "      <td>14</td>\n",
       "      <td>3449</td>\n",
       "      <td>835</td>\n",
       "      <td>69</td>\n",
       "      <td>321</td>\n",
       "      <td>414</td>\n",
       "      <td>375</td>\n",
       "      <td>632</td>\n",
       "      <td>43</td>\n",
       "      <td>10</td>\n",
       "      <td>475.0</td>\n",
       "      <td>1</td>\n",
       "      <td>1</td>\n",
       "      <td>1</td>\n",
       "    </tr>\n",
       "    <tr>\n",
       "      <td>-Alvin Davis</td>\n",
       "      <td>479</td>\n",
       "      <td>130</td>\n",
       "      <td>18</td>\n",
       "      <td>66</td>\n",
       "      <td>72</td>\n",
       "      <td>76</td>\n",
       "      <td>3</td>\n",
       "      <td>1624</td>\n",
       "      <td>457</td>\n",
       "      <td>63</td>\n",
       "      <td>224</td>\n",
       "      <td>266</td>\n",
       "      <td>263</td>\n",
       "      <td>880</td>\n",
       "      <td>82</td>\n",
       "      <td>14</td>\n",
       "      <td>480.0</td>\n",
       "      <td>0</td>\n",
       "      <td>1</td>\n",
       "      <td>0</td>\n",
       "    </tr>\n",
       "  </tbody>\n",
       "</table>\n",
       "</div>"
      ],
      "text/plain": [
       "              AtBat  Hits  HmRun  Runs  RBI  Walks  Years  CAtBat  CHits  \\\n",
       "Player                                                                     \n",
       "-Alan Ashby     315    81      7    24   38     39     14    3449    835   \n",
       "-Alvin Davis    479   130     18    66   72     76      3    1624    457   \n",
       "\n",
       "              CHmRun  CRuns  CRBI  CWalks  PutOuts  Assists  Errors  Salary  \\\n",
       "Player                                                                        \n",
       "-Alan Ashby       69    321   414     375      632       43      10   475.0   \n",
       "-Alvin Davis      63    224   266     263      880       82      14   480.0   \n",
       "\n",
       "              League_N  Division_W  NewLeague_N  \n",
       "Player                                           \n",
       "-Alan Ashby          1           1            1  \n",
       "-Alvin Davis         0           1            0  "
      ]
     },
     "execution_count": 2,
     "metadata": {},
     "output_type": "execute_result"
    }
   ],
   "source": [
    "hitters = pd.read_csv('./data/Hitters.csv', index_col=0).dropna()\n",
    "\n",
    "# Create a set of dummy variables for the categoricals\n",
    "dummies = pd.get_dummies(hitters[['League', 'Division', 'NewLeague']])\n",
    "\n",
    "# Generate new dataframe with new dummy variables\n",
    "hitters = hitters.drop(['League', 'Division', 'NewLeague'], axis=1)\n",
    "\n",
    "# add new dummy variables to hitters\n",
    "hitters = pd.concat([hitters, dummies[['League_N', 'Division_W', 'NewLeague_N']]],axis=1)\n",
    "\n",
    "hitters.head(2)"
   ]
  },
  {
   "cell_type": "code",
   "execution_count": 3,
   "metadata": {},
   "outputs": [],
   "source": [
    "X=hitters.drop(['Salary'], axis=1)\n",
    "y=hitters['Salary']"
   ]
  },
  {
   "cell_type": "code",
   "execution_count": 93,
   "metadata": {},
   "outputs": [],
   "source": [
    "alphas = 10**np.linspace(-4, 2, 100)"
   ]
  },
  {
   "cell_type": "code",
   "execution_count": 94,
   "metadata": {},
   "outputs": [],
   "source": [
    "regr=[]\n",
    "for index, alp in enumerate(alphas):\n",
    "    # NOTE normalize = True does not standardize the regressors by standard deviation, it divides by\n",
    "    # the l2 norm of each column.\n",
    "    model=Ridge(alpha=alp, normalize=True, fit_intercept=True)\n",
    "    output=model.fit(X, y)\n",
    "    \n",
    "    regr=np.append(regr, output)\n",
    "    \n",
    "    \n",
    "    "
   ]
  },
  {
   "cell_type": "code",
   "execution_count": 95,
   "metadata": {},
   "outputs": [],
   "source": [
    "df=pd.DataFrame()\n",
    "for i in range(len(alphas)):\n",
    "    # make a datframe of the results\n",
    "    inters=(pd.Series(regr[i].alpha, index=['alpha']))   \n",
    "    coefs=pd.Series(data = np.hstack([regr[i].intercept_, regr[i].coef_]), \n",
    "                   index=['Intercept'] + X.columns.tolist())\n",
    "    inters=inters.append(coefs)\n",
    "    \n",
    "    df[i]=inters\n",
    "\n",
    "    "
   ]
  },
  {
   "cell_type": "code",
   "execution_count": 96,
   "metadata": {},
   "outputs": [],
   "source": [
    "def l2_norms(i):\n",
    "    print(df[i],'\\n')\n",
    "\n",
    "    print('l2 norm of Betas=', np.sqrt(sum(df[i].apply(lambda x: x**2).iloc[2:])))"
   ]
  },
  {
   "cell_type": "code",
   "execution_count": 97,
   "metadata": {},
   "outputs": [
    {
     "name": "stdout",
     "output_type": "stream",
     "text": [
      "alpha           24.770764\n",
      "Intercept      404.264758\n",
      "AtBat            0.037839\n",
      "Hits             0.141609\n",
      "HmRun            0.536690\n",
      "Runs             0.236334\n",
      "RBI              0.245584\n",
      "Walks            0.296780\n",
      "Years            1.132897\n",
      "CAtBat           0.003206\n",
      "CHits            0.011932\n",
      "CHmRun           0.089629\n",
      "CRuns            0.023939\n",
      "CRBI             0.024716\n",
      "CWalks           0.025598\n",
      "PutOuts          0.016928\n",
      "Assists          0.002681\n",
      "Errors          -0.021315\n",
      "League_N         0.101226\n",
      "Division_W      -6.391921\n",
      "NewLeague_N      0.319640\n",
      "Name: 89, dtype: float64 \n",
      "\n",
      "l2 norm of Betas= 6.540417563468825\n"
     ]
    }
   ],
   "source": [
    "l2_norms(89)"
   ]
  },
  {
   "cell_type": "code",
   "execution_count": 92,
   "metadata": {},
   "outputs": [
    {
     "name": "stdout",
     "output_type": "stream",
     "text": [
      "alpha          533.669923\n",
      "Intercept      528.179165\n",
      "AtBat            0.002236\n",
      "Hits             0.008121\n",
      "HmRun            0.032628\n",
      "Runs             0.013725\n",
      "RBI              0.014486\n",
      "Walks            0.017071\n",
      "Years            0.069574\n",
      "CAtBat           0.000192\n",
      "CHits            0.000706\n",
      "CHmRun           0.005325\n",
      "CRuns            0.001417\n",
      "CRBI             0.001462\n",
      "CWalks           0.001545\n",
      "PutOuts          0.000900\n",
      "Assists          0.000147\n",
      "Errors          -0.000706\n",
      "League_N        -0.022345\n",
      "Division_W      -0.323351\n",
      "NewLeague_N     -0.003542\n",
      "Name: 60, dtype: float64 \n",
      "\n",
      "l2 norm of Betas= 0.33432066444400144\n"
     ]
    }
   ],
   "source": [
    "l2_norms(60)"
   ]
  },
  {
   "cell_type": "code",
   "execution_count": null,
   "metadata": {},
   "outputs": [],
   "source": []
  },
  {
   "cell_type": "code",
   "execution_count": 5,
   "metadata": {},
   "outputs": [
    {
     "data": {
      "text/plain": [
       "array([[-0.6029005 , -0.59567545, -0.5285512 , ...,  1.05875764,\n",
       "         0.98116592,  1.07505242],\n",
       "       [ 0.51254171,  0.49225957,  0.72996619, ..., -0.94450322,\n",
       "         0.98116592, -0.9301872 ],\n",
       "       [ 0.62816682,  0.73648988,  0.95878753, ...,  1.05875764,\n",
       "        -1.01919561,  1.07505242],\n",
       "       ...,\n",
       "       [ 0.48533581,  0.40344855, -0.98619389, ..., -0.94450322,\n",
       "         0.98116592, -0.9301872 ],\n",
       "       [ 1.15188054,  0.80309815, -0.29972986, ..., -0.94450322,\n",
       "        -1.01919561, -0.9301872 ],\n",
       "       [ 1.54636621,  1.38036979, -0.29972986, ..., -0.94450322,\n",
       "         0.98116592, -0.9301872 ]])"
      ]
     },
     "execution_count": 5,
     "metadata": {},
     "output_type": "execute_result"
    }
   ],
   "source": [
    "#StandardScaler() will normalize the features (each column of X, INDIVIDUALLY !!!) \n",
    "#so that each column/feature/variable will have mean = 0 and standard deviation = 1.\n",
    "\n",
    "scaler=StandardScaler()\n",
    "scaler.fit_transform(X)"
   ]
  },
  {
   "cell_type": "code",
   "execution_count": null,
   "metadata": {},
   "outputs": [],
   "source": []
  }
 ],
 "metadata": {
  "kernelspec": {
   "display_name": "Python 3",
   "language": "python",
   "name": "python3"
  },
  "language_info": {
   "codemirror_mode": {
    "name": "ipython",
    "version": 3
   },
   "file_extension": ".py",
   "mimetype": "text/x-python",
   "name": "python",
   "nbconvert_exporter": "python",
   "pygments_lexer": "ipython3",
   "version": "3.7.4"
  }
 },
 "nbformat": 4,
 "nbformat_minor": 2
}
